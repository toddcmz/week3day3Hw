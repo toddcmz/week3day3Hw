{
 "cells": [
  {
   "cell_type": "markdown",
   "metadata": {},
   "source": [
    "# APIs\n"
   ]
  },
  {
   "cell_type": "markdown",
   "metadata": {},
   "source": [
    "## Tasks Today:\n",
    "1) <b>Requests and the pokemon API </b> <br>\n",
    " "
   ]
  },
  {
   "cell_type": "markdown",
   "metadata": {},
   "source": [
    "# working with APis"
   ]
  },
  {
   "cell_type": "markdown",
   "metadata": {},
   "source": [
    "<p> What exactly is an API? <br> <br>\n",
    "API is the acronym for Application Programming Interface, which is a software intermediary that allows two applications to talk to each other. Each time you use an app like Facebook, send an instant message, or check the weather on your phone, you're using an API. </p>"
   ]
  },
  {
   "cell_type": "markdown",
   "metadata": {},
   "source": [
    "### The Poke API  allows you to retreive a pokemon's information from PokeAPI https://pokeapi.co/\n",
    "\n"
   ]
  },
  {
   "cell_type": "code",
   "execution_count": 2,
   "metadata": {},
   "outputs": [],
   "source": [
    "# making an API call\n",
    "import requests\n"
   ]
  },
  {
   "cell_type": "markdown",
   "metadata": {},
   "source": [
    "### Display a Pokemon's name, weight, abilities, and types"
   ]
  },
  {
   "cell_type": "code",
   "execution_count": 4,
   "metadata": {},
   "outputs": [],
   "source": [
    "# get the name\n"
   ]
  },
  {
   "cell_type": "code",
   "execution_count": 5,
   "metadata": {},
   "outputs": [],
   "source": [
    "# get types\n"
   ]
  },
  {
   "cell_type": "code",
   "execution_count": 6,
   "metadata": {},
   "outputs": [],
   "source": [
    "# get weight\n"
   ]
  },
  {
   "cell_type": "code",
   "execution_count": 7,
   "metadata": {},
   "outputs": [],
   "source": [
    "# get abilities\n"
   ]
  },
  {
   "cell_type": "code",
   "execution_count": 6,
   "metadata": {},
   "outputs": [],
   "source": [
    "# Create a structure for a single pokemon\n"
   ]
  },
  {
   "cell_type": "code",
   "execution_count": null,
   "metadata": {},
   "outputs": [],
   "source": []
  },
  {
   "cell_type": "markdown",
   "metadata": {},
   "source": [
    "#### Create a function to Pull in your own Pokemon's data "
   ]
  },
  {
   "cell_type": "code",
   "execution_count": 10,
   "metadata": {},
   "outputs": [],
   "source": [
    "def poke_api_call(pokemon):\n",
    "    pass"
   ]
  },
  {
   "cell_type": "markdown",
   "metadata": {},
   "source": [
    "Choose your pokemon"
   ]
  },
  {
   "cell_type": "code",
   "execution_count": null,
   "metadata": {},
   "outputs": [],
   "source": [
    "from random import randint\n",
    "# Random number generated for each pokemon id\n",
    "random_team = [randint(1,898) for i in range(6)]\n",
    "\n",
    "your_team = ['electabuzz', 'haunter','tyranitar','blaziken','marowak','dragonair']\n"
   ]
  },
  {
   "cell_type": "markdown",
   "metadata": {},
   "source": [
    "#### Use your function to create a dictionary of your Johto League 6  (favorite 6 pokemon)"
   ]
  },
  {
   "cell_type": "code",
   "execution_count": 11,
   "metadata": {},
   "outputs": [],
   "source": [
    "# Place all 6 of your pokemon on the object below, each pokemon should have at least as much info as Pikachu did.\n",
    "my_six_pokemon = {}\n"
   ]
  },
  {
   "cell_type": "markdown",
   "metadata": {},
   "source": [
    "## Lets create a class called 'Pokemon' and create our pokemon as instances"
   ]
  },
  {
   "cell_type": "code",
   "execution_count": 13,
   "metadata": {},
   "outputs": [],
   "source": [
    "class Pokemon():\n",
    "    pass"
   ]
  },
  {
   "cell_type": "markdown",
   "metadata": {},
   "source": [
    "### Let's Catch some Pokemon"
   ]
  },
  {
   "cell_type": "code",
   "execution_count": null,
   "metadata": {},
   "outputs": [],
   "source": []
  },
  {
   "cell_type": "code",
   "execution_count": 14,
   "metadata": {},
   "outputs": [],
   "source": [
    "pokedex = {}\n"
   ]
  },
  {
   "cell_type": "markdown",
   "metadata": {},
   "source": [
    "## Exercise 1:"
   ]
  },
  {
   "cell_type": "markdown",
   "metadata": {},
   "source": [
    "### Create a Method prints an image of your pokemon\n",
    "\n",
    "<p>HINT: You may need another attribute as well to store your image url within. </p>"
   ]
  },
  {
   "cell_type": "code",
   "execution_count": 260,
   "metadata": {},
   "outputs": [],
   "source": [
    "# Display an image in Jupyter notebook\n",
    "from IPython.display import Image\n",
    "\n",
    "#display(Image(self.pokemon_sprite, width = 300))\n"
   ]
  },
  {
   "cell_type": "code",
   "execution_count": 19,
   "metadata": {},
   "outputs": [],
   "source": [
    "import requests\n",
    "from IPython.display import Image\n",
    "\n",
    "# recreate your pokemon class here\n",
    "class Encounter_Pokemon():\n",
    "\n",
    "    def __init__(self, name):\n",
    "        self.name = name\n",
    "        self.abilities = []\n",
    "        self.types = []\n",
    "        self.weight = None\n",
    "        self.image = None\n",
    "\n",
    "    def throw_pokeball(self):\n",
    "        catch_attempt = requests.get(f'https://pokeapi.co/api/v2/pokemon/{self.name}')\n",
    "        if catch_attempt.status_code == 200:\n",
    "            print(f'You successfully caught {self.name}')\n",
    "            data = catch_attempt.json()\n",
    "            self.name = data[\"name\"] # this will allow for passing in either a full name or an integer index during the prior API call\n",
    "            self.weight = data[\"weight\"]\n",
    "            self.abilities = [this_ability[\"ability\"][\"name\"] for this_ability in data[\"abilities\"]]\n",
    "            self.types = [this_type[\"type\"][\"name\"] for this_type in data[\"types\"]]\n",
    "            self.image = data[\"sprites\"]['front_default']\n",
    "        else:\n",
    "            print(f'Error, status code {catch_attempt.status_code}')\n",
    "            \n",
    "    def i_choose_you(self):\n",
    "        display(Image(self.image, width = 100))"
   ]
  },
  {
   "cell_type": "code",
   "execution_count": 20,
   "metadata": {},
   "outputs": [
    {
     "name": "stdout",
     "output_type": "stream",
     "text": [
      "Pokemon successfully caught\n"
     ]
    }
   ],
   "source": [
    "# intantiate\n",
    "my_haunter = Encounter_Pokemon(\"haunter\")\n",
    "my_haunter.throw_pokeball()"
   ]
  },
  {
   "cell_type": "code",
   "execution_count": 21,
   "metadata": {},
   "outputs": [
    {
     "data": {
      "image/png": "[encoded data removed]",
      "text/plain": [
       "<IPython.core.display.Image object>"
      ]
     },
     "metadata": {
      "image/png": {
       "width": 100
      }
     },
     "output_type": "display_data"
    }
   ],
   "source": [
    "# Calling our new method\n",
    "my_haunter.i_choose_you()"
   ]
  },
  {
   "cell_type": "markdown",
   "metadata": {},
   "source": [
    "## Exercise 2:"
   ]
  },
  {
   "cell_type": "markdown",
   "metadata": {},
   "source": [
    "### Create a Method that evolves your Pokemon\n",
    "If your pokemon can't evolve any further print a message that says \"\\<name of pokemon> can't evolve.\""
   ]
  },
  {
   "cell_type": "code",
   "execution_count": 22,
   "metadata": {},
   "outputs": [],
   "source": [
    "import requests\n",
    "from IPython.display import Image\n",
    "\n",
    "# recreate your pokemon class here\n",
    "class Encounter_Pokemon():\n",
    "\n",
    "    def __init__(self, name):\n",
    "        self.name = name\n",
    "        self.abilities = []\n",
    "        self.types = []\n",
    "        self.weight = None\n",
    "        self.image = None\n",
    "        self.pokenum = None\n",
    "\n",
    "    def throw_pokeball(self):\n",
    "        catch_attempt = requests.get(f'https://pokeapi.co/api/v2/pokemon/{self.name}')\n",
    "        if catch_attempt.status_code == 200:\n",
    "            print(f'You successfully caught {self.name}')\n",
    "            data = catch_attempt.json()\n",
    "            self.name = data[\"name\"] # this will allow for passing in either a full name or an integer index during the prior API call\n",
    "            self.weight = data[\"weight\"]\n",
    "            self.abilities = [this_ability[\"ability\"][\"name\"] for this_ability in data[\"abilities\"]]\n",
    "            self.types = [this_type[\"type\"][\"name\"] for this_type in data[\"types\"]]\n",
    "            self.image = data[\"sprites\"]['front_default']\n",
    "            self.pokenum = data[\"id\"]\n",
    "        else:\n",
    "            print(f'Error, status code {catch_attempt.status_code}')\n",
    "        \n",
    "    def successful_evolution(self):\n",
    "        evo_attempt = requests.get(f'https://pokeapi.co/api/v2/pokemon/{self.name}')\n",
    "        if evo_attempt.status_code == 200:\n",
    "            print('Bum dum bum dum bum dum baaaa')\n",
    "            data = evo_attempt.json()\n",
    "            self.name = data[\"name\"] # this will allow for passing in either a full name or an integer index during the prior API call\n",
    "            self.weight = data[\"weight\"]\n",
    "            self.abilities = [this_ability[\"ability\"][\"name\"] for this_ability in data[\"abilities\"]]\n",
    "            self.types = [this_type[\"type\"][\"name\"] for this_type in data[\"types\"]]\n",
    "            self.image = data[\"sprites\"]['front_default']\n",
    "            self.pokenum = data[\"id\"]\n",
    "        else:\n",
    "            print(f'Error on retrieving evolution info, status code {evo_attempt.status_code}')\n",
    "            \n",
    "    def i_choose_you(self):\n",
    "        display(Image(self.image, width = 100))\n",
    "        \n",
    "    def wants_to_evolve(self):\n",
    "        get_evo_data = requests.get(f'https://pokeapi.co/api/v2/pokemon-species/{self.pokenum}/')\n",
    "        if get_evo_data.status_code == 200:\n",
    "            print(f'{self.name} wants ...')\n",
    "            tempData = get_evo_data.json()\n",
    "            self.find_evo_data(tempData[\"evolution_chain\"][\"url\"])\n",
    "        else:\n",
    "            print(f'Error on species page retrieval, status code {get_evo_data.status_code}')\n",
    "\n",
    "    def find_evo_data(self, found_url):\n",
    "        get_evo_data = requests.get(found_url)\n",
    "        if get_evo_data.status_code == 200:\n",
    "            print(\"...to evolve!\")\n",
    "            self.try_to_evolve(get_evo_data.json())\n",
    "        else:\n",
    "            print(f'Error on evo chain retrieval, status code {get_evo_data.status_code}')\n",
    "\n",
    "    # I'm going to do the original max 2 evolutions. I know there are baby pokemon now, and super\n",
    "    # evolutions, and so on, so I'm not sure what the maximum total possible evolutions are from\n",
    "    # like baby to something special, probably 4? This is proof of concept anyway. Traversing\n",
    "    # the chain 4 levels seems obnoxious. I'd love to hear the more pythony way to do this, though.\n",
    "    # Should I be making a traverse_chain() method?\n",
    "    def try_to_evolve(self, evo_data):\n",
    "        # pokemon is bottom level, goes to next level if next level exists\n",
    "        if self.name == evo_data[\"chain\"][\"species\"][\"name\"]:\n",
    "            # if next level exists:\n",
    "            if evo_data[\"chain\"][\"evolves_to\"]:\n",
    "                self.oldName = self.name\n",
    "                self.name = evo_data[\"chain\"][\"evolves_to\"][0][\"species\"][\"name\"]\n",
    "                self.successful_evolution()\n",
    "                print(f'Congratulations, your {self.oldName} evolved into {self.name}')\n",
    "            else:\n",
    "                print(f\"Sorry, your {self.name} can't evolve any further.\")\n",
    "        # pokemon is middle level, goes to next level if next level exists\n",
    "        elif self.name == evo_data[\"chain\"][\"evolves_to\"][0][\"species\"][\"name\"]:\n",
    "            # if next level exists:\n",
    "            if evo_data[\"chain\"][\"evolves_to\"][0][\"evolves_to\"]:\n",
    "                self.oldName = self.name\n",
    "                self.name = evo_data[\"chain\"][\"evolves_to\"][0][\"evolves_to\"][0][\"species\"][\"name\"]\n",
    "                self.successful_evolution()\n",
    "                print(f'Congratulations, your {self.oldName} evolved into {self.name}')\n",
    "            else:\n",
    "                print(f\"Sorry, your {self.name} can't evolve any further.\")\n",
    "        # we'll assume there are at most three evolutions for now, I see we could go deeper, I'm\n",
    "        # sure there's way more efficient code out there for doing all this\n",
    "        else:\n",
    "            print(f\"Sorry, your {self.name} can't evolve any further.\")\n",
    "        "
   ]
  },
  {
   "cell_type": "markdown",
   "metadata": {},
   "source": [
    "Now let's evolve a few"
   ]
  },
  {
   "cell_type": "code",
   "execution_count": 23,
   "metadata": {
    "scrolled": true
   },
   "outputs": [
    {
     "name": "stdout",
     "output_type": "stream",
     "text": [
      "Pokemon successfully caught\n",
      "gastly\n",
      "pokemon num:  92\n",
      "abilities:  ['levitate']\n",
      "gastly wants ...\n",
      "...to evolve!\n",
      "Bum dum bum dum bum dum baaaa\n",
      "Congratulations, your gastly evolved into haunter\n",
      "haunter\n",
      "pokemon num:  93\n",
      "abilities:  ['levitate']\n",
      "haunter wants ...\n",
      "...to evolve!\n",
      "Bum dum bum dum bum dum baaaa\n",
      "Congratulations, your haunter evolved into gengar\n",
      "gengar\n",
      "pokemon num:  94\n",
      "abilities:  ['cursed-body']\n",
      "gengar wants ...\n",
      "...to evolve!\n",
      "Sorry, your gengar can't evolve any further.\n",
      "Pokemon successfully caught\n",
      "moltres wants ...\n",
      "...to evolve!\n",
      "Sorry, your moltres can't evolve any further.\n"
     ]
    }
   ],
   "source": [
    "my_pokemon = Encounter_Pokemon('gastly')\n",
    "my_pokemon.throw_pokeball()\n",
    "print(my_pokemon.name)\n",
    "print(\"pokemon num: \",my_pokemon.pokenum)\n",
    "print(\"abilities: \",my_pokemon.abilities)\n",
    "my_pokemon.wants_to_evolve()\n",
    "print(my_pokemon.name)\n",
    "print(\"pokemon num: \",my_pokemon.pokenum)\n",
    "print(\"abilities: \",my_pokemon.abilities)\n",
    "my_pokemon.wants_to_evolve()\n",
    "print(my_pokemon.name)\n",
    "print(\"pokemon num: \",my_pokemon.pokenum)\n",
    "print(\"abilities: \",my_pokemon.abilities)\n",
    "my_pokemon.wants_to_evolve()\n",
    "\n",
    "my_pokemon = Encounter_Pokemon('moltres')\n",
    "my_pokemon.throw_pokeball()\n",
    "my_pokemon.wants_to_evolve()"
   ]
  },
  {
   "cell_type": "markdown",
   "metadata": {},
   "source": [
    "#  Final Exercise: <br> <br>Create a Move_Tutor Class that will allow the Pokemon Class to inherit a move list.\n",
    "<br>\n",
    "<p>for an added bonus you can make sure that if a pokemon has 4 moves the user can choose one of them to replace with a new move. </p>"
   ]
  },
  {
   "cell_type": "code",
   "execution_count": 31,
   "metadata": {},
   "outputs": [],
   "source": [
    "import requests\n",
    "from IPython.display import Image\n",
    "\n",
    "class Move_Tutor:\n",
    "    \n",
    "    def __init__(self, move_list = []):\n",
    "        self.move_list = move_list\n",
    "        \n",
    "    def learn_new_move(self):\n",
    "        print(f'Moves that {self.name} knows:')\n",
    "        print(self.move_list)\n",
    "        new_move = input(\"Enter a move to learn: \")\n",
    "        if new_move in self.move_list:\n",
    "            self.already_knows_move(new_move)\n",
    "        elif len(self.move_list) == 4:\n",
    "            self.make_room_move(new_move)\n",
    "        else:\n",
    "            self.move_list.append(new_move)\n",
    "    \n",
    "    def already_knows_move(self, new_move):\n",
    "        print(f'The move {new_move} is already known.')\n",
    "        user_choice = input(\"Would you like to try to learn a different move? y/n: \").lower()\n",
    "        if user_choice == \"y\":\n",
    "            self.learn_new_move()\n",
    "        else:\n",
    "            print(\"Done learning moves.\")\n",
    "    \n",
    "    def make_room_move(self, new_move):\n",
    "        print(f\"There are already 4 moves in {self.name}'s move list:'\")\n",
    "        print(self.move_list)\n",
    "        user_choice = input(f\"Would you like to forget a move to learn {new_move}? y/n\").lower()\n",
    "        if user_choice == \"n\":\n",
    "            print(\"Done learning moves\")\n",
    "        else:\n",
    "            user_choice = input(f\"Which move would you like to forget?\")\n",
    "            if user_choice in self.move_list:\n",
    "                self.move_list.remove(user_choice)\n",
    "                self.move_list.append(new_move)\n",
    "                print(f\"Your pokemon {self.name} forgot {user_choice} and learned {new_move}!\")\n",
    "            else:\n",
    "                print(\"That move isn't in the known list, did you type it correctly?\")\n",
    "                self.make_room_move(new_move)\n",
    "        \n",
    "# recreate your pokemon class here\n",
    "class Encounter_Pokemon(Move_Tutor):\n",
    "\n",
    "    def __init__(self, name, move_list):\n",
    "        super().__init__(move_list)\n",
    "        self.name = name\n",
    "        self.abilities = []\n",
    "        self.types = []\n",
    "        self.weight = None\n",
    "        self.image = None\n",
    "        self.pokenum = None\n",
    "\n",
    "    def throw_pokeball(self):\n",
    "        catch_attempt = requests.get(f'https://pokeapi.co/api/v2/pokemon/{self.name}')\n",
    "        if catch_attempt.status_code == 200:\n",
    "            print(f'You successfully caught {self.name}')\n",
    "            data = catch_attempt.json()\n",
    "            self.name = data[\"name\"] # this will allow for passing in either a full name or an integer index during the prior API call\n",
    "            self.weight = data[\"weight\"]\n",
    "            self.abilities = [this_ability[\"ability\"][\"name\"] for this_ability in data[\"abilities\"]]\n",
    "            self.types = [this_type[\"type\"][\"name\"] for this_type in data[\"types\"]]\n",
    "            self.image = data[\"sprites\"]['front_default']\n",
    "            self.pokenum = data[\"id\"]\n",
    "        else:\n",
    "            print(f'Error, status code {catch_attempt.status_code}')\n",
    "        \n",
    "    def successful_evolution(self):\n",
    "        evo_attempt = requests.get(f'https://pokeapi.co/api/v2/pokemon/{self.name}')\n",
    "        if evo_attempt.status_code == 200:\n",
    "            print('Bum dum bum dum bum dum baaaa')\n",
    "            data = evo_attempt.json()\n",
    "            self.name = data[\"name\"] # this will allow for passing in either a full name or an integer index during the prior API call\n",
    "            self.weight = data[\"weight\"]\n",
    "            self.abilities = [this_ability[\"ability\"][\"name\"] for this_ability in data[\"abilities\"]]\n",
    "            self.types = [this_type[\"type\"][\"name\"] for this_type in data[\"types\"]]\n",
    "            self.image = data[\"sprites\"]['front_default']\n",
    "            self.pokenum = data[\"id\"]\n",
    "        else:\n",
    "            print(f'Error on retrieving evolution info, status code {evo_attempt.status_code}')\n",
    "            \n",
    "    def i_choose_you(self):\n",
    "        display(Image(self.image, width = 100))\n",
    "        \n",
    "    def wants_to_evolve(self):\n",
    "        get_evo_data = requests.get(f'https://pokeapi.co/api/v2/pokemon-species/{self.pokenum}/')\n",
    "        if get_evo_data.status_code == 200:\n",
    "            print(f'{self.name} wants ...')\n",
    "            tempData = get_evo_data.json()\n",
    "            self.find_evo_data(tempData[\"evolution_chain\"][\"url\"])\n",
    "        else:\n",
    "            print(f'Error on species page retrieval, status code {get_evo_data.status_code}')\n",
    "\n",
    "    def find_evo_data(self, found_url):\n",
    "        get_evo_data = requests.get(found_url)\n",
    "        if get_evo_data.status_code == 200:\n",
    "            print(\"...to evolve!\")\n",
    "            self.try_to_evolve(get_evo_data.json())\n",
    "        else:\n",
    "            print(f'Error on evo chain retrieval, status code {get_evo_data.status_code}')\n",
    "\n",
    "    # I'm going to do the original max 2 evolutions. I know there are baby pokemon now, and super\n",
    "    # evolutions, and so on, so I'm not sure what the maximum total possible evolutions are from\n",
    "    # like baby to something special, probably 4? This is proof of concept anyway. Traversing\n",
    "    # the chain 4 levels seems obnoxious. I'd love to hear the more pythony way to do this, though.\n",
    "    # Should I be making a traverse_chain() method?\n",
    "    def try_to_evolve(self, evo_data):\n",
    "        # pokemon is bottom level, goes to next level if next level exists\n",
    "        if self.name == evo_data[\"chain\"][\"species\"][\"name\"]:\n",
    "            # if next level exists:\n",
    "            if evo_data[\"chain\"][\"evolves_to\"]:\n",
    "                self.oldName = self.name\n",
    "                self.name = evo_data[\"chain\"][\"evolves_to\"][0][\"species\"][\"name\"]\n",
    "                self.successful_evolution()\n",
    "                print(f'Congratulations, your {self.oldName} evolved into {self.name}')\n",
    "            else:\n",
    "                print(f\"Sorry, your {self.name} can't evolve any further.\")\n",
    "        # pokemon is middle level, goes to next level if next level exists\n",
    "        elif self.name == evo_data[\"chain\"][\"evolves_to\"][0][\"species\"][\"name\"]:\n",
    "            # if next level exists:\n",
    "            if evo_data[\"chain\"][\"evolves_to\"][0][\"evolves_to\"]:\n",
    "                self.oldName = self.name\n",
    "                self.name = evo_data[\"chain\"][\"evolves_to\"][0][\"evolves_to\"][0][\"species\"][\"name\"]\n",
    "                self.successful_evolution()\n",
    "                print(f'Congratulations, your {self.oldName} evolved into {self.name}')\n",
    "            else:\n",
    "                print(f\"Sorry, your {self.name} can't evolve any further.\")\n",
    "        # we'll assume there are at most three evolutions for now, I see we could go deeper, I'm\n",
    "        # sure there's way more efficient code out there for doing all this\n",
    "        else:\n",
    "            print(f\"Sorry, your {self.name} can't evolve any further.\")"
   ]
  },
  {
   "cell_type": "code",
   "execution_count": 32,
   "metadata": {},
   "outputs": [
    {
     "name": "stdout",
     "output_type": "stream",
     "text": [
      "You successfully caught pikachu\n",
      "Moves that pikachu knows:\n",
      "['scratch', 'tackle', 'thunderbolt']\n",
      "Enter a move to learn: tackle\n",
      "The move tackle is already known.\n",
      "Would you like to try to learn a different move? y/n: y\n",
      "Moves that pikachu knows:\n",
      "['scratch', 'tackle', 'thunderbolt']\n",
      "Enter a move to learn: shock\n",
      "Moves that pikachu knows:\n",
      "['scratch', 'tackle', 'thunderbolt', 'shock']\n",
      "Enter a move to learn: bolt\n",
      "There are already 4 moves in pikachu's move list:'\n",
      "['scratch', 'tackle', 'thunderbolt', 'shock']\n",
      "Would you like to forget a move to learn bolt? y/ny\n",
      "Which move would you like to forget?tackle\n",
      "Your pokemon pikachu forgot tackle and learned bolt!\n"
     ]
    }
   ],
   "source": [
    "my_pokemon = Encounter_Pokemon('pikachu', [\"scratch\", \"tackle\", \"thunderbolt\"])\n",
    "my_pokemon.throw_pokeball()\n",
    "my_pokemon.learn_new_move()\n",
    "my_pokemon.learn_new_move()\n"
   ]
  },
  {
   "cell_type": "code",
   "execution_count": 33,
   "metadata": {},
   "outputs": [
    {
     "name": "stdout",
     "output_type": "stream",
     "text": [
      "['scratch', 'thunderbolt', 'shock', 'bolt']\n"
     ]
    }
   ],
   "source": [
    "print(my_pokemon.move_list)"
   ]
  },
  {
   "cell_type": "code",
   "execution_count": null,
   "metadata": {},
   "outputs": [],
   "source": []
  }
 ],
 "metadata": {
  "kernelspec": {
   "display_name": "Python 3 (ipykernel)",
   "language": "python",
   "name": "python3"
  },
  "language_info": {
   "codemirror_mode": {
    "name": "ipython",
    "version": 3
   },
   "file_extension": ".py",
   "mimetype": "text/x-python",
   "name": "python",
   "nbconvert_exporter": "python",
   "pygments_lexer": "ipython3",
   "version": "3.9.12"
  }
 },
 "nbformat": 4,
 "nbformat_minor": 4
}
